{
 "cells": [
  {
   "cell_type": "markdown",
   "metadata": {},
   "source": [
    "# Cluster the neighborhoods in Toronto"
   ]
  },
  {
   "cell_type": "markdown",
   "metadata": {},
   "source": [
    "### Import the library"
   ]
  },
  {
   "cell_type": "markdown",
   "metadata": {},
   "source": [
    "# Part 1"
   ]
  },
  {
   "cell_type": "code",
   "execution_count": 1,
   "metadata": {},
   "outputs": [],
   "source": [
    "from bs4 import BeautifulSoup\n",
    "import requests\n",
    "import numpy as np\n",
    "import pandas as pd\n",
    "from geopy.geocoders import Nominatim\n",
    "import folium"
   ]
  },
  {
   "cell_type": "markdown",
   "metadata": {},
   "source": [
    "The code to scrape the following Wikipedia page, https://en.wikipedia.org/wiki/List_of_postal_codes_of_Canada:_M,"
   ]
  },
  {
   "cell_type": "code",
   "execution_count": 2,
   "metadata": {},
   "outputs": [
    {
     "name": "stdout",
     "output_type": "stream",
     "text": [
      "https://en.wikipedia.org/wiki/List_of_postal_codes_of_Canada:_M\n",
      "200\n",
      "{'Date': 'Wed, 12 Feb 2020 15:47:19 GMT', 'Vary': 'Accept-Encoding,Cookie,Authorization', 'Server': 'ATS/8.0.5', 'X-ATS-Timestamp': '1581522439', 'Content-Type': 'text/html; charset=UTF-8', 'X-Powered-By': 'PHP/7.2.26-1+0~20191218.33+debian9~1.gbpb5a340+wmf1', 'X-Content-Type-Options': 'nosniff', 'P3P': 'CP=\"See https://en.wikipedia.org/wiki/Special:CentralAutoLogin/P3P for more info.\"', 'Content-language': 'en', 'Last-Modified': 'Sun, 02 Feb 2020 04:01:18 GMT', 'Backend-Timing': 'D=121032 t=1581424309711469', 'Content-Encoding': 'gzip', 'X-Varnish': '805069230 775492217', 'Age': '4318', 'X-Cache': 'cp5008 miss, cp5007 hit/2', 'X-Cache-Status': 'hit-front', 'Server-Timing': 'cache;desc=\"hit-front\"', 'Strict-Transport-Security': 'max-age=106384710; includeSubDomains; preload', 'Set-Cookie': 'WMF-Last-Access=12-Feb-2020;Path=/;HttpOnly;secure;Expires=Sun, 15 Mar 2020 12:00:00 GMT, WMF-Last-Access-Global=12-Feb-2020;Path=/;Domain=.wikipedia.org;HttpOnly;secure;Expires=Sun, 15 Mar 2020 12:00:00 GMT, GeoIP=IN:TN:Chennai:13.09:80.28:v4; Path=/; secure; Domain=.wikipedia.org', 'X-Client-IP': '2409:4072:6e89:b851:f14a:b73f:9e75:6e3d', 'Cache-Control': 'private, s-maxage=0, max-age=0, must-revalidate', 'Accept-Ranges': 'bytes', 'Content-Length': '14978', 'Connection': 'keep-alive'}\n"
     ]
    }
   ],
   "source": [
    "url = 'https://en.wikipedia.org/wiki/List_of_postal_codes_of_Canada:_M'\n",
    "result = requests.get(url)\n",
    "print(url)\n",
    "print(result.status_code)\n",
    "print(result.headers)"
   ]
  },
  {
   "cell_type": "code",
   "execution_count": 3,
   "metadata": {},
   "outputs": [],
   "source": [
    "soup = BeautifulSoup(result.content, 'html.parser')\n",
    "table = soup.find('table')\n",
    "trs = table.find_all('tr')\n",
    "rows = []\n",
    "for tr in trs:\n",
    "    i = tr.find_all('td')\n",
    "    if i:\n",
    "        rows.append(i)\n",
    "        \n",
    "lst = []\n",
    "for row in rows:\n",
    "    postalcode = row[0].text.rstrip()\n",
    "    borough = row[1].text.rstrip()\n",
    "    neighborhood = row[2].text.rstrip()\n",
    "    if borough != 'Not assigned':\n",
    "        if neighborhood == 'Not assigned':\n",
    "            neighborhood = borough\n",
    "        lst.append([postalcode, borough, neighborhood])\n"
   ]
  },
  {
   "cell_type": "markdown",
   "metadata": {},
   "source": [
    " Convert the data into datafram"
   ]
  },
  {
   "cell_type": "code",
   "execution_count": 4,
   "metadata": {},
   "outputs": [
    {
     "data": {
      "text/plain": [
       "(210, 3)"
      ]
     },
     "execution_count": 4,
     "metadata": {},
     "output_type": "execute_result"
    }
   ],
   "source": [
    "cols = ['PostalCode', 'Borough', 'Neighborhood']\n",
    "df = pd.DataFrame(lst, columns=cols)\n",
    "df.shape"
   ]
  },
  {
   "cell_type": "code",
   "execution_count": 5,
   "metadata": {},
   "outputs": [],
   "source": [
    "df = df.groupby('PostalCode').agg(\n",
    "    {\n",
    "        'Borough':'first', \n",
    "        'Neighborhood': ', '.join,}\n",
    "    ).reset_index()"
   ]
  },
  {
   "cell_type": "markdown",
   "metadata": {},
   "source": [
    "Check the data shape"
   ]
  },
  {
   "cell_type": "code",
   "execution_count": 6,
   "metadata": {},
   "outputs": [
    {
     "data": {
      "text/html": [
       "<div>\n",
       "<style scoped>\n",
       "    .dataframe tbody tr th:only-of-type {\n",
       "        vertical-align: middle;\n",
       "    }\n",
       "\n",
       "    .dataframe tbody tr th {\n",
       "        vertical-align: top;\n",
       "    }\n",
       "\n",
       "    .dataframe thead th {\n",
       "        text-align: right;\n",
       "    }\n",
       "</style>\n",
       "<table border=\"1\" class=\"dataframe\">\n",
       "  <thead>\n",
       "    <tr style=\"text-align: right;\">\n",
       "      <th></th>\n",
       "      <th>PostalCode</th>\n",
       "      <th>Borough</th>\n",
       "      <th>Neighborhood</th>\n",
       "    </tr>\n",
       "  </thead>\n",
       "  <tbody>\n",
       "    <tr>\n",
       "      <th>0</th>\n",
       "      <td>M1B</td>\n",
       "      <td>Scarborough</td>\n",
       "      <td>Rouge, Malvern</td>\n",
       "    </tr>\n",
       "    <tr>\n",
       "      <th>1</th>\n",
       "      <td>M1C</td>\n",
       "      <td>Scarborough</td>\n",
       "      <td>Highland Creek, Rouge Hill, Port Union</td>\n",
       "    </tr>\n",
       "    <tr>\n",
       "      <th>2</th>\n",
       "      <td>M1E</td>\n",
       "      <td>Scarborough</td>\n",
       "      <td>Guildwood, Morningside, West Hill</td>\n",
       "    </tr>\n",
       "    <tr>\n",
       "      <th>3</th>\n",
       "      <td>M1G</td>\n",
       "      <td>Scarborough</td>\n",
       "      <td>Woburn</td>\n",
       "    </tr>\n",
       "    <tr>\n",
       "      <th>4</th>\n",
       "      <td>M1H</td>\n",
       "      <td>Scarborough</td>\n",
       "      <td>Cedarbrae</td>\n",
       "    </tr>\n",
       "  </tbody>\n",
       "</table>\n",
       "</div>"
      ],
      "text/plain": [
       "  PostalCode      Borough                            Neighborhood\n",
       "0        M1B  Scarborough                          Rouge, Malvern\n",
       "1        M1C  Scarborough  Highland Creek, Rouge Hill, Port Union\n",
       "2        M1E  Scarborough       Guildwood, Morningside, West Hill\n",
       "3        M1G  Scarborough                                  Woburn\n",
       "4        M1H  Scarborough                               Cedarbrae"
      ]
     },
     "execution_count": 6,
     "metadata": {},
     "output_type": "execute_result"
    }
   ],
   "source": [
    "# group neighborhoods in the same borough\n",
    "df = df.groupby([\"PostalCode\", \"Borough\"], as_index=False).agg(lambda x: \", \".join(x))\n",
    "df.head()"
   ]
  },
  {
   "cell_type": "code",
   "execution_count": 7,
   "metadata": {},
   "outputs": [
    {
     "data": {
      "text/html": [
       "<div>\n",
       "<style scoped>\n",
       "    .dataframe tbody tr th:only-of-type {\n",
       "        vertical-align: middle;\n",
       "    }\n",
       "\n",
       "    .dataframe tbody tr th {\n",
       "        vertical-align: top;\n",
       "    }\n",
       "\n",
       "    .dataframe thead th {\n",
       "        text-align: right;\n",
       "    }\n",
       "</style>\n",
       "<table border=\"1\" class=\"dataframe\">\n",
       "  <thead>\n",
       "    <tr style=\"text-align: right;\">\n",
       "      <th></th>\n",
       "      <th>PostalCode</th>\n",
       "      <th>Borough</th>\n",
       "      <th>Neighborhood</th>\n",
       "    </tr>\n",
       "  </thead>\n",
       "  <tbody>\n",
       "    <tr>\n",
       "      <th>0</th>\n",
       "      <td>M1B</td>\n",
       "      <td>Scarborough</td>\n",
       "      <td>Rouge, Malvern</td>\n",
       "    </tr>\n",
       "    <tr>\n",
       "      <th>1</th>\n",
       "      <td>M1C</td>\n",
       "      <td>Scarborough</td>\n",
       "      <td>Highland Creek, Rouge Hill, Port Union</td>\n",
       "    </tr>\n",
       "    <tr>\n",
       "      <th>2</th>\n",
       "      <td>M1E</td>\n",
       "      <td>Scarborough</td>\n",
       "      <td>Guildwood, Morningside, West Hill</td>\n",
       "    </tr>\n",
       "    <tr>\n",
       "      <th>3</th>\n",
       "      <td>M1G</td>\n",
       "      <td>Scarborough</td>\n",
       "      <td>Woburn</td>\n",
       "    </tr>\n",
       "    <tr>\n",
       "      <th>4</th>\n",
       "      <td>M1H</td>\n",
       "      <td>Scarborough</td>\n",
       "      <td>Cedarbrae</td>\n",
       "    </tr>\n",
       "  </tbody>\n",
       "</table>\n",
       "</div>"
      ],
      "text/plain": [
       "  PostalCode      Borough                            Neighborhood\n",
       "0        M1B  Scarborough                          Rouge, Malvern\n",
       "1        M1C  Scarborough  Highland Creek, Rouge Hill, Port Union\n",
       "2        M1E  Scarborough       Guildwood, Morningside, West Hill\n",
       "3        M1G  Scarborough                                  Woburn\n",
       "4        M1H  Scarborough                               Cedarbrae"
      ]
     },
     "execution_count": 7,
     "metadata": {},
     "output_type": "execute_result"
    }
   ],
   "source": [
    "# for Neighborhood=\"Not assigned\", make the value the same as Borough\n",
    "for index, row in df.iterrows():\n",
    "    if row[\"Neighborhood\"] == \"Not assigned\":\n",
    "        row[\"Neighborhood\"] = row[\"Borough\"]\n",
    "        \n",
    "df.head()"
   ]
  },
  {
   "cell_type": "code",
   "execution_count": 8,
   "metadata": {},
   "outputs": [
    {
     "data": {
      "text/html": [
       "<div>\n",
       "<style scoped>\n",
       "    .dataframe tbody tr th:only-of-type {\n",
       "        vertical-align: middle;\n",
       "    }\n",
       "\n",
       "    .dataframe tbody tr th {\n",
       "        vertical-align: top;\n",
       "    }\n",
       "\n",
       "    .dataframe thead th {\n",
       "        text-align: right;\n",
       "    }\n",
       "</style>\n",
       "<table border=\"1\" class=\"dataframe\">\n",
       "  <thead>\n",
       "    <tr style=\"text-align: right;\">\n",
       "      <th></th>\n",
       "      <th>PostalCode</th>\n",
       "      <th>Borough</th>\n",
       "      <th>Neighborhood</th>\n",
       "    </tr>\n",
       "  </thead>\n",
       "  <tbody>\n",
       "    <tr>\n",
       "      <th>0</th>\n",
       "      <td>M5G</td>\n",
       "      <td>Downtown Toronto</td>\n",
       "      <td>Central Bay Street</td>\n",
       "    </tr>\n",
       "    <tr>\n",
       "      <th>1</th>\n",
       "      <td>M2H</td>\n",
       "      <td>North York</td>\n",
       "      <td>Hillcrest Village</td>\n",
       "    </tr>\n",
       "    <tr>\n",
       "      <th>2</th>\n",
       "      <td>M4B</td>\n",
       "      <td>East York</td>\n",
       "      <td>Woodbine Gardens, Parkview Hill</td>\n",
       "    </tr>\n",
       "    <tr>\n",
       "      <th>3</th>\n",
       "      <td>M1J</td>\n",
       "      <td>Scarborough</td>\n",
       "      <td>Scarborough Village</td>\n",
       "    </tr>\n",
       "    <tr>\n",
       "      <th>4</th>\n",
       "      <td>M4G</td>\n",
       "      <td>East York</td>\n",
       "      <td>Leaside</td>\n",
       "    </tr>\n",
       "    <tr>\n",
       "      <th>5</th>\n",
       "      <td>M4M</td>\n",
       "      <td>East Toronto</td>\n",
       "      <td>Studio District</td>\n",
       "    </tr>\n",
       "    <tr>\n",
       "      <th>6</th>\n",
       "      <td>M1R</td>\n",
       "      <td>Scarborough</td>\n",
       "      <td>Maryvale, Wexford</td>\n",
       "    </tr>\n",
       "    <tr>\n",
       "      <th>7</th>\n",
       "      <td>M9V</td>\n",
       "      <td>Etobicoke</td>\n",
       "      <td>Albion Gardens, Beaumond Heights, Humbergate, ...</td>\n",
       "    </tr>\n",
       "    <tr>\n",
       "      <th>8</th>\n",
       "      <td>M9L</td>\n",
       "      <td>North York</td>\n",
       "      <td>Humber Summit</td>\n",
       "    </tr>\n",
       "    <tr>\n",
       "      <th>9</th>\n",
       "      <td>M5V</td>\n",
       "      <td>Downtown Toronto</td>\n",
       "      <td>CN Tower, Bathurst Quay, Island airport, Harbo...</td>\n",
       "    </tr>\n",
       "    <tr>\n",
       "      <th>10</th>\n",
       "      <td>M1B</td>\n",
       "      <td>Scarborough</td>\n",
       "      <td>Rouge, Malvern</td>\n",
       "    </tr>\n",
       "    <tr>\n",
       "      <th>11</th>\n",
       "      <td>M5A</td>\n",
       "      <td>Downtown Toronto</td>\n",
       "      <td>Harbourfront</td>\n",
       "    </tr>\n",
       "  </tbody>\n",
       "</table>\n",
       "</div>"
      ],
      "text/plain": [
       "   PostalCode           Borough  \\\n",
       "0         M5G  Downtown Toronto   \n",
       "1         M2H        North York   \n",
       "2         M4B         East York   \n",
       "3         M1J       Scarborough   \n",
       "4         M4G         East York   \n",
       "5         M4M      East Toronto   \n",
       "6         M1R       Scarborough   \n",
       "7         M9V         Etobicoke   \n",
       "8         M9L        North York   \n",
       "9         M5V  Downtown Toronto   \n",
       "10        M1B       Scarborough   \n",
       "11        M5A  Downtown Toronto   \n",
       "\n",
       "                                         Neighborhood  \n",
       "0                                  Central Bay Street  \n",
       "1                                   Hillcrest Village  \n",
       "2                     Woodbine Gardens, Parkview Hill  \n",
       "3                                 Scarborough Village  \n",
       "4                                             Leaside  \n",
       "5                                     Studio District  \n",
       "6                                   Maryvale, Wexford  \n",
       "7   Albion Gardens, Beaumond Heights, Humbergate, ...  \n",
       "8                                       Humber Summit  \n",
       "9   CN Tower, Bathurst Quay, Island airport, Harbo...  \n",
       "10                                     Rouge, Malvern  \n",
       "11                                       Harbourfront  "
      ]
     },
     "execution_count": 8,
     "metadata": {},
     "output_type": "execute_result"
    }
   ],
   "source": [
    "column_names = [\"PostalCode\", \"Borough\", \"Neighborhood\"]\n",
    "test_df = pd.DataFrame(columns=column_names)\n",
    "\n",
    "test_list = [\"M5G\", \"M2H\", \"M4B\", \"M1J\", \"M4G\", \"M4M\", \"M1R\", \"M9V\", \"M9L\", \"M5V\", \"M1B\", \"M5A\"]\n",
    "\n",
    "for postcode in test_list:\n",
    "    test_df = test_df.append(df[df[\"PostalCode\"]==postcode], ignore_index=True)\n",
    "    \n",
    "test_df"
   ]
  },
  {
   "cell_type": "code",
   "execution_count": 9,
   "metadata": {},
   "outputs": [
    {
     "data": {
      "text/plain": [
       "(103, 3)"
      ]
     },
     "execution_count": 9,
     "metadata": {},
     "output_type": "execute_result"
    }
   ],
   "source": [
    "df.shape"
   ]
  },
  {
   "cell_type": "markdown",
   "metadata": {},
   "source": [
    "### In the data set we have 103 rows and 3 column"
   ]
  },
  {
   "cell_type": "markdown",
   "metadata": {},
   "source": [
    "# Part 2 "
   ]
  },
  {
   "cell_type": "code",
   "execution_count": 10,
   "metadata": {},
   "outputs": [
    {
     "data": {
      "text/html": [
       "<div>\n",
       "<style scoped>\n",
       "    .dataframe tbody tr th:only-of-type {\n",
       "        vertical-align: middle;\n",
       "    }\n",
       "\n",
       "    .dataframe tbody tr th {\n",
       "        vertical-align: top;\n",
       "    }\n",
       "\n",
       "    .dataframe thead th {\n",
       "        text-align: right;\n",
       "    }\n",
       "</style>\n",
       "<table border=\"1\" class=\"dataframe\">\n",
       "  <thead>\n",
       "    <tr style=\"text-align: right;\">\n",
       "      <th></th>\n",
       "      <th>Postal Code</th>\n",
       "      <th>Latitude</th>\n",
       "      <th>Longitude</th>\n",
       "    </tr>\n",
       "  </thead>\n",
       "  <tbody>\n",
       "    <tr>\n",
       "      <th>0</th>\n",
       "      <td>M1B</td>\n",
       "      <td>43.806686</td>\n",
       "      <td>-79.194353</td>\n",
       "    </tr>\n",
       "    <tr>\n",
       "      <th>1</th>\n",
       "      <td>M1C</td>\n",
       "      <td>43.784535</td>\n",
       "      <td>-79.160497</td>\n",
       "    </tr>\n",
       "    <tr>\n",
       "      <th>2</th>\n",
       "      <td>M1E</td>\n",
       "      <td>43.763573</td>\n",
       "      <td>-79.188711</td>\n",
       "    </tr>\n",
       "    <tr>\n",
       "      <th>3</th>\n",
       "      <td>M1G</td>\n",
       "      <td>43.770992</td>\n",
       "      <td>-79.216917</td>\n",
       "    </tr>\n",
       "    <tr>\n",
       "      <th>4</th>\n",
       "      <td>M1H</td>\n",
       "      <td>43.773136</td>\n",
       "      <td>-79.239476</td>\n",
       "    </tr>\n",
       "  </tbody>\n",
       "</table>\n",
       "</div>"
      ],
      "text/plain": [
       "  Postal Code   Latitude  Longitude\n",
       "0         M1B  43.806686 -79.194353\n",
       "1         M1C  43.784535 -79.160497\n",
       "2         M1E  43.763573 -79.188711\n",
       "3         M1G  43.770992 -79.216917\n",
       "4         M1H  43.773136 -79.239476"
      ]
     },
     "execution_count": 10,
     "metadata": {},
     "output_type": "execute_result"
    }
   ],
   "source": [
    "df1 = pd.read_csv(\"Geospatial_Coordinates.csv\")\n",
    "df1.head()"
   ]
  },
  {
   "cell_type": "code",
   "execution_count": 11,
   "metadata": {},
   "outputs": [
    {
     "data": {
      "text/html": [
       "<div>\n",
       "<style scoped>\n",
       "    .dataframe tbody tr th:only-of-type {\n",
       "        vertical-align: middle;\n",
       "    }\n",
       "\n",
       "    .dataframe tbody tr th {\n",
       "        vertical-align: top;\n",
       "    }\n",
       "\n",
       "    .dataframe thead th {\n",
       "        text-align: right;\n",
       "    }\n",
       "</style>\n",
       "<table border=\"1\" class=\"dataframe\">\n",
       "  <thead>\n",
       "    <tr style=\"text-align: right;\">\n",
       "      <th></th>\n",
       "      <th>PostalCode</th>\n",
       "      <th>Latitude</th>\n",
       "      <th>Longitude</th>\n",
       "    </tr>\n",
       "  </thead>\n",
       "  <tbody>\n",
       "    <tr>\n",
       "      <th>0</th>\n",
       "      <td>M1B</td>\n",
       "      <td>43.806686</td>\n",
       "      <td>-79.194353</td>\n",
       "    </tr>\n",
       "    <tr>\n",
       "      <th>1</th>\n",
       "      <td>M1C</td>\n",
       "      <td>43.784535</td>\n",
       "      <td>-79.160497</td>\n",
       "    </tr>\n",
       "    <tr>\n",
       "      <th>2</th>\n",
       "      <td>M1E</td>\n",
       "      <td>43.763573</td>\n",
       "      <td>-79.188711</td>\n",
       "    </tr>\n",
       "    <tr>\n",
       "      <th>3</th>\n",
       "      <td>M1G</td>\n",
       "      <td>43.770992</td>\n",
       "      <td>-79.216917</td>\n",
       "    </tr>\n",
       "    <tr>\n",
       "      <th>4</th>\n",
       "      <td>M1H</td>\n",
       "      <td>43.773136</td>\n",
       "      <td>-79.239476</td>\n",
       "    </tr>\n",
       "  </tbody>\n",
       "</table>\n",
       "</div>"
      ],
      "text/plain": [
       "  PostalCode   Latitude  Longitude\n",
       "0        M1B  43.806686 -79.194353\n",
       "1        M1C  43.784535 -79.160497\n",
       "2        M1E  43.763573 -79.188711\n",
       "3        M1G  43.770992 -79.216917\n",
       "4        M1H  43.773136 -79.239476"
      ]
     },
     "execution_count": 11,
     "metadata": {},
     "output_type": "execute_result"
    }
   ],
   "source": [
    "df1.rename(columns={\"Postal Code\": \"PostalCode\"}, inplace=True)\n",
    "df1.head()"
   ]
  },
  {
   "cell_type": "code",
   "execution_count": 13,
   "metadata": {},
   "outputs": [
    {
     "data": {
      "text/html": [
       "<div>\n",
       "<style scoped>\n",
       "    .dataframe tbody tr th:only-of-type {\n",
       "        vertical-align: middle;\n",
       "    }\n",
       "\n",
       "    .dataframe tbody tr th {\n",
       "        vertical-align: top;\n",
       "    }\n",
       "\n",
       "    .dataframe thead th {\n",
       "        text-align: right;\n",
       "    }\n",
       "</style>\n",
       "<table border=\"1\" class=\"dataframe\">\n",
       "  <thead>\n",
       "    <tr style=\"text-align: right;\">\n",
       "      <th></th>\n",
       "      <th>PostalCode</th>\n",
       "      <th>Borough</th>\n",
       "      <th>Neighborhood</th>\n",
       "      <th>Latitude</th>\n",
       "      <th>Longitude</th>\n",
       "    </tr>\n",
       "  </thead>\n",
       "  <tbody>\n",
       "    <tr>\n",
       "      <th>0</th>\n",
       "      <td>M1B</td>\n",
       "      <td>Scarborough</td>\n",
       "      <td>Rouge, Malvern</td>\n",
       "      <td>43.806686</td>\n",
       "      <td>-79.194353</td>\n",
       "    </tr>\n",
       "    <tr>\n",
       "      <th>1</th>\n",
       "      <td>M1C</td>\n",
       "      <td>Scarborough</td>\n",
       "      <td>Highland Creek, Rouge Hill, Port Union</td>\n",
       "      <td>43.784535</td>\n",
       "      <td>-79.160497</td>\n",
       "    </tr>\n",
       "    <tr>\n",
       "      <th>2</th>\n",
       "      <td>M1E</td>\n",
       "      <td>Scarborough</td>\n",
       "      <td>Guildwood, Morningside, West Hill</td>\n",
       "      <td>43.763573</td>\n",
       "      <td>-79.188711</td>\n",
       "    </tr>\n",
       "    <tr>\n",
       "      <th>3</th>\n",
       "      <td>M1G</td>\n",
       "      <td>Scarborough</td>\n",
       "      <td>Woburn</td>\n",
       "      <td>43.770992</td>\n",
       "      <td>-79.216917</td>\n",
       "    </tr>\n",
       "    <tr>\n",
       "      <th>4</th>\n",
       "      <td>M1H</td>\n",
       "      <td>Scarborough</td>\n",
       "      <td>Cedarbrae</td>\n",
       "      <td>43.773136</td>\n",
       "      <td>-79.239476</td>\n",
       "    </tr>\n",
       "  </tbody>\n",
       "</table>\n",
       "</div>"
      ],
      "text/plain": [
       "  PostalCode      Borough                            Neighborhood   Latitude  \\\n",
       "0        M1B  Scarborough                          Rouge, Malvern  43.806686   \n",
       "1        M1C  Scarborough  Highland Creek, Rouge Hill, Port Union  43.784535   \n",
       "2        M1E  Scarborough       Guildwood, Morningside, West Hill  43.763573   \n",
       "3        M1G  Scarborough                                  Woburn  43.770992   \n",
       "4        M1H  Scarborough                               Cedarbrae  43.773136   \n",
       "\n",
       "   Longitude  \n",
       "0 -79.194353  \n",
       "1 -79.160497  \n",
       "2 -79.188711  \n",
       "3 -79.216917  \n",
       "4 -79.239476  "
      ]
     },
     "execution_count": 13,
     "metadata": {},
     "output_type": "execute_result"
    }
   ],
   "source": [
    "df2 = df.merge(df1, on=\"PostalCode\", how=\"left\")\n",
    "df2.head()"
   ]
  },
  {
   "cell_type": "code",
   "execution_count": 16,
   "metadata": {},
   "outputs": [
    {
     "data": {
      "text/html": [
       "<div>\n",
       "<style scoped>\n",
       "    .dataframe tbody tr th:only-of-type {\n",
       "        vertical-align: middle;\n",
       "    }\n",
       "\n",
       "    .dataframe tbody tr th {\n",
       "        vertical-align: top;\n",
       "    }\n",
       "\n",
       "    .dataframe thead th {\n",
       "        text-align: right;\n",
       "    }\n",
       "</style>\n",
       "<table border=\"1\" class=\"dataframe\">\n",
       "  <thead>\n",
       "    <tr style=\"text-align: right;\">\n",
       "      <th></th>\n",
       "      <th>PostalCode</th>\n",
       "      <th>Borough</th>\n",
       "      <th>Neighborhood</th>\n",
       "      <th>Latitude</th>\n",
       "      <th>Longitude</th>\n",
       "    </tr>\n",
       "  </thead>\n",
       "  <tbody>\n",
       "    <tr>\n",
       "      <th>0</th>\n",
       "      <td>M5G</td>\n",
       "      <td>Downtown Toronto</td>\n",
       "      <td>Central Bay Street</td>\n",
       "      <td>43.657952</td>\n",
       "      <td>-79.387383</td>\n",
       "    </tr>\n",
       "    <tr>\n",
       "      <th>1</th>\n",
       "      <td>M2H</td>\n",
       "      <td>North York</td>\n",
       "      <td>Hillcrest Village</td>\n",
       "      <td>43.803762</td>\n",
       "      <td>-79.363452</td>\n",
       "    </tr>\n",
       "    <tr>\n",
       "      <th>2</th>\n",
       "      <td>M4B</td>\n",
       "      <td>East York</td>\n",
       "      <td>Woodbine Gardens, Parkview Hill</td>\n",
       "      <td>43.706397</td>\n",
       "      <td>-79.309937</td>\n",
       "    </tr>\n",
       "    <tr>\n",
       "      <th>3</th>\n",
       "      <td>M1J</td>\n",
       "      <td>Scarborough</td>\n",
       "      <td>Scarborough Village</td>\n",
       "      <td>43.744734</td>\n",
       "      <td>-79.239476</td>\n",
       "    </tr>\n",
       "    <tr>\n",
       "      <th>4</th>\n",
       "      <td>M4G</td>\n",
       "      <td>East York</td>\n",
       "      <td>Leaside</td>\n",
       "      <td>43.709060</td>\n",
       "      <td>-79.363452</td>\n",
       "    </tr>\n",
       "    <tr>\n",
       "      <th>5</th>\n",
       "      <td>M4M</td>\n",
       "      <td>East Toronto</td>\n",
       "      <td>Studio District</td>\n",
       "      <td>43.659526</td>\n",
       "      <td>-79.340923</td>\n",
       "    </tr>\n",
       "    <tr>\n",
       "      <th>6</th>\n",
       "      <td>M1R</td>\n",
       "      <td>Scarborough</td>\n",
       "      <td>Maryvale, Wexford</td>\n",
       "      <td>43.750072</td>\n",
       "      <td>-79.295849</td>\n",
       "    </tr>\n",
       "    <tr>\n",
       "      <th>7</th>\n",
       "      <td>M9V</td>\n",
       "      <td>Etobicoke</td>\n",
       "      <td>Albion Gardens, Beaumond Heights, Humbergate, ...</td>\n",
       "      <td>43.739416</td>\n",
       "      <td>-79.588437</td>\n",
       "    </tr>\n",
       "    <tr>\n",
       "      <th>8</th>\n",
       "      <td>M9L</td>\n",
       "      <td>North York</td>\n",
       "      <td>Humber Summit</td>\n",
       "      <td>43.756303</td>\n",
       "      <td>-79.565963</td>\n",
       "    </tr>\n",
       "    <tr>\n",
       "      <th>9</th>\n",
       "      <td>M5V</td>\n",
       "      <td>Downtown Toronto</td>\n",
       "      <td>CN Tower, Bathurst Quay, Island airport, Harbo...</td>\n",
       "      <td>43.628947</td>\n",
       "      <td>-79.394420</td>\n",
       "    </tr>\n",
       "    <tr>\n",
       "      <th>10</th>\n",
       "      <td>M1B</td>\n",
       "      <td>Scarborough</td>\n",
       "      <td>Rouge, Malvern</td>\n",
       "      <td>43.806686</td>\n",
       "      <td>-79.194353</td>\n",
       "    </tr>\n",
       "    <tr>\n",
       "      <th>11</th>\n",
       "      <td>M5A</td>\n",
       "      <td>Downtown Toronto</td>\n",
       "      <td>Harbourfront</td>\n",
       "      <td>43.654260</td>\n",
       "      <td>-79.360636</td>\n",
       "    </tr>\n",
       "  </tbody>\n",
       "</table>\n",
       "</div>"
      ],
      "text/plain": [
       "   PostalCode           Borough  \\\n",
       "0         M5G  Downtown Toronto   \n",
       "1         M2H        North York   \n",
       "2         M4B         East York   \n",
       "3         M1J       Scarborough   \n",
       "4         M4G         East York   \n",
       "5         M4M      East Toronto   \n",
       "6         M1R       Scarborough   \n",
       "7         M9V         Etobicoke   \n",
       "8         M9L        North York   \n",
       "9         M5V  Downtown Toronto   \n",
       "10        M1B       Scarborough   \n",
       "11        M5A  Downtown Toronto   \n",
       "\n",
       "                                         Neighborhood   Latitude  Longitude  \n",
       "0                                  Central Bay Street  43.657952 -79.387383  \n",
       "1                                   Hillcrest Village  43.803762 -79.363452  \n",
       "2                     Woodbine Gardens, Parkview Hill  43.706397 -79.309937  \n",
       "3                                 Scarborough Village  43.744734 -79.239476  \n",
       "4                                             Leaside  43.709060 -79.363452  \n",
       "5                                     Studio District  43.659526 -79.340923  \n",
       "6                                   Maryvale, Wexford  43.750072 -79.295849  \n",
       "7   Albion Gardens, Beaumond Heights, Humbergate, ...  43.739416 -79.588437  \n",
       "8                                       Humber Summit  43.756303 -79.565963  \n",
       "9   CN Tower, Bathurst Quay, Island airport, Harbo...  43.628947 -79.394420  \n",
       "10                                     Rouge, Malvern  43.806686 -79.194353  \n",
       "11                                       Harbourfront  43.654260 -79.360636  "
      ]
     },
     "execution_count": 16,
     "metadata": {},
     "output_type": "execute_result"
    }
   ],
   "source": [
    "column_names = [\"PostalCode\", \"Borough\", \"Neighborhood\", \"Latitude\", \"Longitude\"]\n",
    "test_df = pd.DataFrame(columns=column_names)\n",
    "\n",
    "test_list = [\"M5G\", \"M2H\", \"M4B\", \"M1J\", \"M4G\", \"M4M\", \"M1R\", \"M9V\", \"M9L\", \"M5V\", \"M1B\", \"M5A\"]\n",
    "\n",
    "for postcode in test_list:\n",
    "    test_df = test_df.append(df2[df2[\"PostalCode\"]==postcode], ignore_index=True)\n",
    "    \n",
    "test_df"
   ]
  },
  {
   "cell_type": "markdown",
   "metadata": {},
   "source": [
    "# Part 3"
   ]
  },
  {
   "cell_type": "code",
   "execution_count": 17,
   "metadata": {},
   "outputs": [
    {
     "name": "stdout",
     "output_type": "stream",
     "text": [
      "https://en.wikipedia.org/wiki/List_of_postal_codes_of_Canada:_M\n",
      "200\n",
      "{'Date': 'Wed, 12 Feb 2020 15:47:19 GMT', 'Vary': 'Accept-Encoding,Cookie,Authorization', 'Server': 'ATS/8.0.5', 'X-ATS-Timestamp': '1581522439', 'Content-Type': 'text/html; charset=UTF-8', 'X-Powered-By': 'PHP/7.2.26-1+0~20191218.33+debian9~1.gbpb5a340+wmf1', 'X-Content-Type-Options': 'nosniff', 'P3P': 'CP=\"See https://en.wikipedia.org/wiki/Special:CentralAutoLogin/P3P for more info.\"', 'Content-language': 'en', 'Last-Modified': 'Sun, 02 Feb 2020 04:01:18 GMT', 'Backend-Timing': 'D=121032 t=1581424309711469', 'Content-Encoding': 'gzip', 'X-Varnish': '822603071 775492217', 'Age': '5622', 'X-Cache': 'cp5008 miss, cp5007 hit/3', 'X-Cache-Status': 'hit-front', 'Server-Timing': 'cache;desc=\"hit-front\"', 'Strict-Transport-Security': 'max-age=106384710; includeSubDomains; preload', 'Set-Cookie': 'WMF-Last-Access=12-Feb-2020;Path=/;HttpOnly;secure;Expires=Sun, 15 Mar 2020 12:00:00 GMT, WMF-Last-Access-Global=12-Feb-2020;Path=/;Domain=.wikipedia.org;HttpOnly;secure;Expires=Sun, 15 Mar 2020 12:00:00 GMT, GeoIP=IN:TN:Chennai:13.09:80.28:v4; Path=/; secure; Domain=.wikipedia.org', 'X-Client-IP': '2409:4072:6e89:b851:f14a:b73f:9e75:6e3d', 'Cache-Control': 'private, s-maxage=0, max-age=0, must-revalidate', 'Accept-Ranges': 'bytes', 'Content-Length': '14978', 'Connection': 'keep-alive'}\n"
     ]
    }
   ],
   "source": [
    "url = 'https://en.wikipedia.org/wiki/List_of_postal_codes_of_Canada:_M'\n",
    "result = requests.get(url)\n",
    "print(url)\n",
    "print(result.status_code)\n",
    "print(result.headers)"
   ]
  },
  {
   "cell_type": "code",
   "execution_count": 18,
   "metadata": {},
   "outputs": [],
   "source": [
    "soup = BeautifulSoup(result.content, 'html.parser')\n",
    "table = soup.find('table')\n",
    "trs = table.find_all('tr')\n",
    "rows = []\n",
    "for tr in trs:\n",
    "    i = tr.find_all('td')\n",
    "    if i:\n",
    "        rows.append(i)\n",
    "        \n",
    "lst = []\n",
    "for row in rows:\n",
    "    postalcode = row[0].text.rstrip()\n",
    "    borough = row[1].text.rstrip()\n",
    "    neighborhood = row[2].text.rstrip()\n",
    "    if borough != 'Not assigned':\n",
    "        if neighborhood == 'Not assigned':\n",
    "            neighborhood = borough\n",
    "        lst.append([postalcode, borough, neighborhood])\n",
    "\n",
    "# lst"
   ]
  },
  {
   "cell_type": "code",
   "execution_count": 21,
   "metadata": {},
   "outputs": [
    {
     "name": "stdout",
     "output_type": "stream",
     "text": [
      "(210, 3)\n"
     ]
    }
   ],
   "source": [
    "cols = ['PostalCode', 'Borough', 'Neighborhood']\n",
    "df = pd.DataFrame(lst, columns=cols)\n",
    "df[df.duplicated(['PostalCode'], keep=False)]\n",
    "print(df.shape)"
   ]
  },
  {
   "cell_type": "code",
   "execution_count": 22,
   "metadata": {},
   "outputs": [],
   "source": [
    "df = df.groupby('PostalCode').agg(\n",
    "    {\n",
    "        'Borough':'first', \n",
    "        'Neighborhood': ', '.join,}\n",
    "    ).reset_index()"
   ]
  },
  {
   "cell_type": "code",
   "execution_count": 23,
   "metadata": {},
   "outputs": [
    {
     "data": {
      "text/html": [
       "<div>\n",
       "<style scoped>\n",
       "    .dataframe tbody tr th:only-of-type {\n",
       "        vertical-align: middle;\n",
       "    }\n",
       "\n",
       "    .dataframe tbody tr th {\n",
       "        vertical-align: top;\n",
       "    }\n",
       "\n",
       "    .dataframe thead th {\n",
       "        text-align: right;\n",
       "    }\n",
       "</style>\n",
       "<table border=\"1\" class=\"dataframe\">\n",
       "  <thead>\n",
       "    <tr style=\"text-align: right;\">\n",
       "      <th></th>\n",
       "      <th>PostalCode</th>\n",
       "      <th>Borough</th>\n",
       "      <th>Neighborhood</th>\n",
       "    </tr>\n",
       "  </thead>\n",
       "  <tbody>\n",
       "    <tr>\n",
       "      <th>53</th>\n",
       "      <td>M5A</td>\n",
       "      <td>Downtown Toronto</td>\n",
       "      <td>Harbourfront</td>\n",
       "    </tr>\n",
       "  </tbody>\n",
       "</table>\n",
       "</div>"
      ],
      "text/plain": [
       "   PostalCode           Borough  Neighborhood\n",
       "53        M5A  Downtown Toronto  Harbourfront"
      ]
     },
     "execution_count": 23,
     "metadata": {},
     "output_type": "execute_result"
    }
   ],
   "source": [
    "df.loc[df['PostalCode'] == 'M5A']"
   ]
  },
  {
   "cell_type": "code",
   "execution_count": 24,
   "metadata": {},
   "outputs": [
    {
     "data": {
      "text/plain": [
       "(103, 3)"
      ]
     },
     "execution_count": 24,
     "metadata": {},
     "output_type": "execute_result"
    }
   ],
   "source": [
    "df.shape"
   ]
  },
  {
   "cell_type": "code",
   "execution_count": 25,
   "metadata": {},
   "outputs": [],
   "source": [
    "dfgeo = pd.read_csv(\"Geospatial_Coordinates.csv\")\n",
    "dfgeo.rename(columns={'Postal Code': 'PostalCode'}, inplace=True)"
   ]
  },
  {
   "cell_type": "code",
   "execution_count": 26,
   "metadata": {},
   "outputs": [],
   "source": [
    "df2 = pd.merge(df, dfgeo, on=\"PostalCode\", how='left')"
   ]
  },
  {
   "cell_type": "code",
   "execution_count": 27,
   "metadata": {},
   "outputs": [
    {
     "data": {
      "text/html": [
       "<div>\n",
       "<style scoped>\n",
       "    .dataframe tbody tr th:only-of-type {\n",
       "        vertical-align: middle;\n",
       "    }\n",
       "\n",
       "    .dataframe tbody tr th {\n",
       "        vertical-align: top;\n",
       "    }\n",
       "\n",
       "    .dataframe thead th {\n",
       "        text-align: right;\n",
       "    }\n",
       "</style>\n",
       "<table border=\"1\" class=\"dataframe\">\n",
       "  <thead>\n",
       "    <tr style=\"text-align: right;\">\n",
       "      <th></th>\n",
       "      <th>PostalCode</th>\n",
       "      <th>Borough</th>\n",
       "      <th>Neighborhood</th>\n",
       "      <th>Latitude</th>\n",
       "      <th>Longitude</th>\n",
       "    </tr>\n",
       "  </thead>\n",
       "  <tbody>\n",
       "    <tr>\n",
       "      <th>57</th>\n",
       "      <td>M5G</td>\n",
       "      <td>Downtown Toronto</td>\n",
       "      <td>Central Bay Street</td>\n",
       "      <td>43.657952</td>\n",
       "      <td>-79.387383</td>\n",
       "    </tr>\n",
       "  </tbody>\n",
       "</table>\n",
       "</div>"
      ],
      "text/plain": [
       "   PostalCode           Borough        Neighborhood   Latitude  Longitude\n",
       "57        M5G  Downtown Toronto  Central Bay Street  43.657952 -79.387383"
      ]
     },
     "execution_count": 27,
     "metadata": {},
     "output_type": "execute_result"
    }
   ],
   "source": [
    "df2.loc[df2['PostalCode'] == 'M5G']"
   ]
  },
  {
   "cell_type": "code",
   "execution_count": 28,
   "metadata": {},
   "outputs": [
    {
     "data": {
      "text/html": [
       "<div>\n",
       "<style scoped>\n",
       "    .dataframe tbody tr th:only-of-type {\n",
       "        vertical-align: middle;\n",
       "    }\n",
       "\n",
       "    .dataframe tbody tr th {\n",
       "        vertical-align: top;\n",
       "    }\n",
       "\n",
       "    .dataframe thead th {\n",
       "        text-align: right;\n",
       "    }\n",
       "</style>\n",
       "<table border=\"1\" class=\"dataframe\">\n",
       "  <thead>\n",
       "    <tr style=\"text-align: right;\">\n",
       "      <th></th>\n",
       "      <th>PostalCode</th>\n",
       "      <th>Borough</th>\n",
       "      <th>Neighborhood</th>\n",
       "      <th>Latitude</th>\n",
       "      <th>Longitude</th>\n",
       "    </tr>\n",
       "  </thead>\n",
       "  <tbody>\n",
       "    <tr>\n",
       "      <th>101</th>\n",
       "      <td>M9V</td>\n",
       "      <td>Etobicoke</td>\n",
       "      <td>Albion Gardens, Beaumond Heights, Humbergate, ...</td>\n",
       "      <td>43.739416</td>\n",
       "      <td>-79.588437</td>\n",
       "    </tr>\n",
       "  </tbody>\n",
       "</table>\n",
       "</div>"
      ],
      "text/plain": [
       "    PostalCode    Borough                                       Neighborhood  \\\n",
       "101        M9V  Etobicoke  Albion Gardens, Beaumond Heights, Humbergate, ...   \n",
       "\n",
       "      Latitude  Longitude  \n",
       "101  43.739416 -79.588437  "
      ]
     },
     "execution_count": 28,
     "metadata": {},
     "output_type": "execute_result"
    }
   ],
   "source": [
    "df2.loc[df2['PostalCode'] == 'M9V']"
   ]
  },
  {
   "cell_type": "markdown",
   "metadata": {},
   "source": [
    "# Toronto Map"
   ]
  },
  {
   "cell_type": "code",
   "execution_count": 29,
   "metadata": {},
   "outputs": [
    {
     "name": "stdout",
     "output_type": "stream",
     "text": [
      "The geograpical coordinates of Toronto are 43.653963, -79.387207.\n"
     ]
    },
    {
     "data": {
      "text/html": [
       "<div style=\"width:100%;\"><div style=\"position:relative;width:100%;height:0;padding-bottom:60%;\"><iframe src=\"data:text/html;charset=utf-8;base64,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\" style=\"position:absolute;width:100%;height:100%;left:0;top:0;border:none !important;\" allowfullscreen webkitallowfullscreen mozallowfullscreen></iframe></div></div>"
      ],
      "text/plain": [
       "<folium.folium.Map at 0x14b5dd0e518>"
      ]
     },
     "execution_count": 29,
     "metadata": {},
     "output_type": "execute_result"
    }
   ],
   "source": [
    "geolocator = Nominatim(user_agent=\"coursera\")\n",
    "address = 'Toronto'\n",
    "try:\n",
    "    location = geolocator.geocode(address)\n",
    "    latitude = location.latitude\n",
    "    longitude = location.longitude\n",
    "    print('The geograpical coordinates of {} are {}, {}.'.format(address, latitude, longitude))\n",
    "except AttributeError:\n",
    "    print('Cannot find: {}, will drop index: {}'.format(address, index))\n",
    "\n",
    "my_map = folium.Map(location=[latitude, longitude], zoom_start=11)\n",
    "\n",
    "# add markers to map\n",
    "for lat, lng, label in zip(df2['Latitude'], df2['Longitude'], df2['PostalCode']):\n",
    "    label = folium.Popup(label)\n",
    "    folium.CircleMarker(\n",
    "        [lat, lng],\n",
    "        radius=5,\n",
    "        popup=label,\n",
    "        color='blue',\n",
    "        fill_color='#3186cc',\n",
    "        fill_opacity=0.7).add_to(my_map)  \n",
    "    \n",
    "my_map"
   ]
  },
  {
   "cell_type": "code",
   "execution_count": null,
   "metadata": {},
   "outputs": [],
   "source": []
  }
 ],
 "metadata": {
  "kernelspec": {
   "display_name": "Python 3",
   "language": "python",
   "name": "python3"
  },
  "language_info": {
   "codemirror_mode": {
    "name": "ipython",
    "version": 3
   },
   "file_extension": ".py",
   "mimetype": "text/x-python",
   "name": "python",
   "nbconvert_exporter": "python",
   "pygments_lexer": "ipython3",
   "version": "3.7.3"
  }
 },
 "nbformat": 4,
 "nbformat_minor": 2
}
